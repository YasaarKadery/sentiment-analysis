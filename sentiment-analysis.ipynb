{
  "nbformat": 4,
  "nbformat_minor": 0,
  "metadata": {
    "colab": {
      "provenance": [],
      "machine_shape": "hm"
    },
    "kernelspec": {
      "name": "python3",
      "display_name": "Python 3"
    },
    "language_info": {
      "name": "python"
    },
    "accelerator": "GPU",
    "gpuClass": "standard"
  },
  "cells": [
    {
      "cell_type": "markdown",
      "source": [
        "# Introduction\n",
        "We're gonna be working with  Amazon review data. The goal of this project is to create a classifier that predicts the ratings of a product. We will be using NLP to evaluate the text of the review and determine whether the review was positive,negative or neutral. \n",
        "\n",
        "First let's download the data"
      ],
      "metadata": {
        "id": "TeLTdHxc7rdn"
      }
    },
    {
      "cell_type": "code",
      "execution_count": 1,
      "metadata": {
        "colab": {
          "base_uri": "https://localhost:8080/"
        },
        "id": "1au0LgYcCDUs",
        "outputId": "04f45af0-8903-4de5-c63d-92b5ed8c6c76"
      },
      "outputs": [
        {
          "output_type": "stream",
          "name": "stdout",
          "text": [
            "--2023-04-11 16:01:29--  http://34.82.108.37/amazonReviewsTrain.csv.zip\n",
            "Connecting to 34.82.108.37:80... connected.\n",
            "HTTP request sent, awaiting response... 200 OK\n",
            "Length: 39456705 (38M) [application/zip]\n",
            "Saving to: ‘amazonReviewsTrain.csv.zip.1’\n",
            "\n",
            "amazonReviewsTrain. 100%[===================>]  37.63M  14.5MB/s    in 2.6s    \n",
            "\n",
            "2023-04-11 16:01:31 (14.5 MB/s) - ‘amazonReviewsTrain.csv.zip.1’ saved [39456705/39456705]\n",
            "\n"
          ]
        }
      ],
      "source": [
        "!wget http://34.82.108.37/amazonReviewsTrain.csv.zip"
      ]
    },
    {
      "cell_type": "code",
      "source": [
        "!wget http://34.82.108.37/amazonReviewsTest.csv"
      ],
      "metadata": {
        "colab": {
          "base_uri": "https://localhost:8080/"
        },
        "id": "PT7P4gkyCfkE",
        "outputId": "15590fbb-6441-440c-dfc4-5cf712400a5e"
      },
      "execution_count": 2,
      "outputs": [
        {
          "output_type": "stream",
          "name": "stdout",
          "text": [
            "--2023-04-11 16:01:31--  http://34.82.108.37/amazonReviewsTest.csv\n",
            "Connecting to 34.82.108.37:80... connected.\n",
            "HTTP request sent, awaiting response... 200 OK\n",
            "Length: 4240573 (4.0M) [application/octet-stream]\n",
            "Saving to: ‘amazonReviewsTest.csv.1’\n",
            "\n",
            "amazonReviewsTest.c 100%[===================>]   4.04M  3.73MB/s    in 1.1s    \n",
            "\n",
            "2023-04-11 16:01:33 (3.73 MB/s) - ‘amazonReviewsTest.csv.1’ saved [4240573/4240573]\n",
            "\n"
          ]
        }
      ]
    },
    {
      "cell_type": "code",
      "source": [
        "!unzip amazonReviewsTrain.csv.zip"
      ],
      "metadata": {
        "colab": {
          "base_uri": "https://localhost:8080/"
        },
        "id": "1wyBvrxbCjk8",
        "outputId": "ad496ebc-b58b-42b2-9885-09c4189a48b7"
      },
      "execution_count": 3,
      "outputs": [
        {
          "output_type": "stream",
          "name": "stdout",
          "text": [
            "Archive:  amazonReviewsTrain.csv.zip\n",
            "replace amazonReviewsTrain.csv? [y]es, [n]o, [A]ll, [N]one, [r]ename: y\n",
            "  inflating: amazonReviewsTrain.csv  \n"
          ]
        }
      ]
    },
    {
      "cell_type": "code",
      "source": [
        "import pandas as pd\n",
        "from keras.preprocessing.text import Tokenizer\n",
        "from sklearn.preprocessing import LabelBinarizer\n",
        "from sklearn.model_selection import train_test_split\n",
        "from keras import models\n",
        "from keras import layers\n",
        "import matplotlib.pyplot as plt\n",
        "from keras import callbacks"
      ],
      "metadata": {
        "id": "B6D7lLa1CqnQ"
      },
      "execution_count": 4,
      "outputs": []
    },
    {
      "cell_type": "markdown",
      "source": [
        "Let's take a look at what type of features we're working with."
      ],
      "metadata": {
        "id": "1IqN9VOz9A54"
      }
    },
    {
      "cell_type": "code",
      "source": [
        "train_data = pd.read_csv('/content/amazonReviewsTrain.csv')\n",
        "test_data = pd.read_csv('/content/amazonReviewsTest.csv')\n",
        "# train_data.loc[train_data['rating'] == 'negative']\n",
        "train_data\n"
      ],
      "metadata": {
        "colab": {
          "base_uri": "https://localhost:8080/",
          "height": 1000
        },
        "id": "9aCGLNVOCviZ",
        "outputId": "8bec8be7-5252-4093-ff92-c9cfc8352b26"
      },
      "execution_count": 35,
      "outputs": [
        {
          "output_type": "stream",
          "name": "stderr",
          "text": [
            "<ipython-input-35-48182549acad>:1: DtypeWarning: Columns (8) have mixed types. Specify dtype option on import or set low_memory=False.\n",
            "  train_data = pd.read_csv('/content/amazonReviewsTrain.csv')\n"
          ]
        },
        {
          "output_type": "execute_result",
          "data": {
            "text/plain": [
              "        verified   reviewTime      reviewerID        asin  \\\n",
              "0           True   05 4, 2017  A2QNLVLQHW6OOC  B00NEZNT74   \n",
              "1           True   12 1, 2014  A32SHV461SUWNQ  B002Q0WTCE   \n",
              "2           True  12 23, 2015  A2SKHG5ULPYIMC  B0002GFP9I   \n",
              "3           True   09 4, 2013  A2MFJ6C67AL015  B003AJVKDO   \n",
              "4           True  08 28, 2015   ACYCDUUE9A3T2  B004XNK7AI   \n",
              "...          ...          ...             ...         ...   \n",
              "221387      True  08 16, 2015  A1TWEBKVZDD2JJ  B0002H05BA   \n",
              "221388      True   01 8, 2012   AP32V2GXAK9VM  B000WME8C2   \n",
              "221389      True  10 22, 2017   A4BIHE0AYAMTP  B00MD7S06O   \n",
              "221390      True   01 9, 2016  A3OCE03MZ2PC2J  B0017PLYCK   \n",
              "221391      True  01 15, 2013  A3T3KPW2QE866W  B0002II7H8   \n",
              "\n",
              "                               reviewerName  \\\n",
              "0                                  Jason L.   \n",
              "1                                Richard C.   \n",
              "2       BellaLatinaReina-ACP Zero-Nine-Five   \n",
              "3                                    BOS116   \n",
              "4                              jack edwards   \n",
              "...                                     ...   \n",
              "221387                           Obey Giant   \n",
              "221388                                 Grey   \n",
              "221389                            divbyzero   \n",
              "221390                               scaper   \n",
              "221391                               leelee   \n",
              "\n",
              "                                               reviewText  \\\n",
              "0              Have 30 of these in operation great lights   \n",
              "1       Good replacement.  I prefer my Rovner L5, but ...   \n",
              "2       My son & band teacher loves it. Really nice. B...   \n",
              "3       This was a gift for a friend who is a fan of t...   \n",
              "4       Wish it would attach to my violin a little eas...   \n",
              "...                                                   ...   \n",
              "221387  Still hard to beat D'Addario. Hope they keep i...   \n",
              "221388  Ortofon hits the nail right on the head with t...   \n",
              "221389  This is my absolute favorite guitar strap amon...   \n",
              "221390                                               nice   \n",
              "221391  This polishing cloth is well-made and a great ...   \n",
              "\n",
              "                                                  summary  unixReviewTime  \\\n",
              "0                                              Five Stars      1493856000   \n",
              "1                 Good replacement. I prefer my Rovner L5      1417392000   \n",
              "2                    Really Helps With Their Practice Pad      1450828800   \n",
              "3                                            Guitar picks      1378252800   \n",
              "4       ... to my violin a little easier but it works ...      1440720000   \n",
              "...                                                   ...             ...   \n",
              "221387                                         Five Stars      1439683200   \n",
              "221388                       Headshell Impovment?  YES!!!      1325980800   \n",
              "221389                            ecclesiastical / hippie      1508630400   \n",
              "221390                                         Five Stars      1452297600   \n",
              "221391                              Great polishing cloth      1358208000   \n",
              "\n",
              "       vote                                              style  \\\n",
              "0       NaN                                  {'Size:': ' 4PC'}   \n",
              "1       NaN                                                NaN   \n",
              "2       NaN                                                NaN   \n",
              "3       NaN                                {'Color:': ' Logo'}   \n",
              "4       NaN                        {'Color:': ' Black - SN-5'}   \n",
              "...     ...                                                ...   \n",
              "221387  NaN  {'Size:': ' Regular Light, 10-46', 'Style:': '...   \n",
              "221388  7.0                               {'Color:': ' Black'}   \n",
              "221389  NaN                                                NaN   \n",
              "221390  NaN                                                NaN   \n",
              "221391  NaN                                                NaN   \n",
              "\n",
              "                                                    image    rating  \n",
              "0                                                     NaN  positive  \n",
              "1                                                     NaN  positive  \n",
              "2                                                     NaN  positive  \n",
              "3                                                     NaN  positive  \n",
              "4                                                     NaN  positive  \n",
              "...                                                   ...       ...  \n",
              "221387                                                NaN  positive  \n",
              "221388                                                NaN  positive  \n",
              "221389  ['https://images-na.ssl-images-amazon.com/imag...  positive  \n",
              "221390                                                NaN  positive  \n",
              "221391                                                NaN  positive  \n",
              "\n",
              "[221392 rows x 12 columns]"
            ],
            "text/html": [
              "\n",
              "  <div id=\"df-891ace5e-3e74-4ceb-83af-7f93f7f4c030\">\n",
              "    <div class=\"colab-df-container\">\n",
              "      <div>\n",
              "<style scoped>\n",
              "    .dataframe tbody tr th:only-of-type {\n",
              "        vertical-align: middle;\n",
              "    }\n",
              "\n",
              "    .dataframe tbody tr th {\n",
              "        vertical-align: top;\n",
              "    }\n",
              "\n",
              "    .dataframe thead th {\n",
              "        text-align: right;\n",
              "    }\n",
              "</style>\n",
              "<table border=\"1\" class=\"dataframe\">\n",
              "  <thead>\n",
              "    <tr style=\"text-align: right;\">\n",
              "      <th></th>\n",
              "      <th>verified</th>\n",
              "      <th>reviewTime</th>\n",
              "      <th>reviewerID</th>\n",
              "      <th>asin</th>\n",
              "      <th>reviewerName</th>\n",
              "      <th>reviewText</th>\n",
              "      <th>summary</th>\n",
              "      <th>unixReviewTime</th>\n",
              "      <th>vote</th>\n",
              "      <th>style</th>\n",
              "      <th>image</th>\n",
              "      <th>rating</th>\n",
              "    </tr>\n",
              "  </thead>\n",
              "  <tbody>\n",
              "    <tr>\n",
              "      <th>0</th>\n",
              "      <td>True</td>\n",
              "      <td>05 4, 2017</td>\n",
              "      <td>A2QNLVLQHW6OOC</td>\n",
              "      <td>B00NEZNT74</td>\n",
              "      <td>Jason L.</td>\n",
              "      <td>Have 30 of these in operation great lights</td>\n",
              "      <td>Five Stars</td>\n",
              "      <td>1493856000</td>\n",
              "      <td>NaN</td>\n",
              "      <td>{'Size:': ' 4PC'}</td>\n",
              "      <td>NaN</td>\n",
              "      <td>positive</td>\n",
              "    </tr>\n",
              "    <tr>\n",
              "      <th>1</th>\n",
              "      <td>True</td>\n",
              "      <td>12 1, 2014</td>\n",
              "      <td>A32SHV461SUWNQ</td>\n",
              "      <td>B002Q0WTCE</td>\n",
              "      <td>Richard C.</td>\n",
              "      <td>Good replacement.  I prefer my Rovner L5, but ...</td>\n",
              "      <td>Good replacement. I prefer my Rovner L5</td>\n",
              "      <td>1417392000</td>\n",
              "      <td>NaN</td>\n",
              "      <td>NaN</td>\n",
              "      <td>NaN</td>\n",
              "      <td>positive</td>\n",
              "    </tr>\n",
              "    <tr>\n",
              "      <th>2</th>\n",
              "      <td>True</td>\n",
              "      <td>12 23, 2015</td>\n",
              "      <td>A2SKHG5ULPYIMC</td>\n",
              "      <td>B0002GFP9I</td>\n",
              "      <td>BellaLatinaReina-ACP Zero-Nine-Five</td>\n",
              "      <td>My son &amp; band teacher loves it. Really nice. B...</td>\n",
              "      <td>Really Helps With Their Practice Pad</td>\n",
              "      <td>1450828800</td>\n",
              "      <td>NaN</td>\n",
              "      <td>NaN</td>\n",
              "      <td>NaN</td>\n",
              "      <td>positive</td>\n",
              "    </tr>\n",
              "    <tr>\n",
              "      <th>3</th>\n",
              "      <td>True</td>\n",
              "      <td>09 4, 2013</td>\n",
              "      <td>A2MFJ6C67AL015</td>\n",
              "      <td>B003AJVKDO</td>\n",
              "      <td>BOS116</td>\n",
              "      <td>This was a gift for a friend who is a fan of t...</td>\n",
              "      <td>Guitar picks</td>\n",
              "      <td>1378252800</td>\n",
              "      <td>NaN</td>\n",
              "      <td>{'Color:': ' Logo'}</td>\n",
              "      <td>NaN</td>\n",
              "      <td>positive</td>\n",
              "    </tr>\n",
              "    <tr>\n",
              "      <th>4</th>\n",
              "      <td>True</td>\n",
              "      <td>08 28, 2015</td>\n",
              "      <td>ACYCDUUE9A3T2</td>\n",
              "      <td>B004XNK7AI</td>\n",
              "      <td>jack edwards</td>\n",
              "      <td>Wish it would attach to my violin a little eas...</td>\n",
              "      <td>... to my violin a little easier but it works ...</td>\n",
              "      <td>1440720000</td>\n",
              "      <td>NaN</td>\n",
              "      <td>{'Color:': ' Black - SN-5'}</td>\n",
              "      <td>NaN</td>\n",
              "      <td>positive</td>\n",
              "    </tr>\n",
              "    <tr>\n",
              "      <th>...</th>\n",
              "      <td>...</td>\n",
              "      <td>...</td>\n",
              "      <td>...</td>\n",
              "      <td>...</td>\n",
              "      <td>...</td>\n",
              "      <td>...</td>\n",
              "      <td>...</td>\n",
              "      <td>...</td>\n",
              "      <td>...</td>\n",
              "      <td>...</td>\n",
              "      <td>...</td>\n",
              "      <td>...</td>\n",
              "    </tr>\n",
              "    <tr>\n",
              "      <th>221387</th>\n",
              "      <td>True</td>\n",
              "      <td>08 16, 2015</td>\n",
              "      <td>A1TWEBKVZDD2JJ</td>\n",
              "      <td>B0002H05BA</td>\n",
              "      <td>Obey Giant</td>\n",
              "      <td>Still hard to beat D'Addario. Hope they keep i...</td>\n",
              "      <td>Five Stars</td>\n",
              "      <td>1439683200</td>\n",
              "      <td>NaN</td>\n",
              "      <td>{'Size:': ' Regular Light, 10-46', 'Style:': '...</td>\n",
              "      <td>NaN</td>\n",
              "      <td>positive</td>\n",
              "    </tr>\n",
              "    <tr>\n",
              "      <th>221388</th>\n",
              "      <td>True</td>\n",
              "      <td>01 8, 2012</td>\n",
              "      <td>AP32V2GXAK9VM</td>\n",
              "      <td>B000WME8C2</td>\n",
              "      <td>Grey</td>\n",
              "      <td>Ortofon hits the nail right on the head with t...</td>\n",
              "      <td>Headshell Impovment?  YES!!!</td>\n",
              "      <td>1325980800</td>\n",
              "      <td>7.0</td>\n",
              "      <td>{'Color:': ' Black'}</td>\n",
              "      <td>NaN</td>\n",
              "      <td>positive</td>\n",
              "    </tr>\n",
              "    <tr>\n",
              "      <th>221389</th>\n",
              "      <td>True</td>\n",
              "      <td>10 22, 2017</td>\n",
              "      <td>A4BIHE0AYAMTP</td>\n",
              "      <td>B00MD7S06O</td>\n",
              "      <td>divbyzero</td>\n",
              "      <td>This is my absolute favorite guitar strap amon...</td>\n",
              "      <td>ecclesiastical / hippie</td>\n",
              "      <td>1508630400</td>\n",
              "      <td>NaN</td>\n",
              "      <td>NaN</td>\n",
              "      <td>['https://images-na.ssl-images-amazon.com/imag...</td>\n",
              "      <td>positive</td>\n",
              "    </tr>\n",
              "    <tr>\n",
              "      <th>221390</th>\n",
              "      <td>True</td>\n",
              "      <td>01 9, 2016</td>\n",
              "      <td>A3OCE03MZ2PC2J</td>\n",
              "      <td>B0017PLYCK</td>\n",
              "      <td>scaper</td>\n",
              "      <td>nice</td>\n",
              "      <td>Five Stars</td>\n",
              "      <td>1452297600</td>\n",
              "      <td>NaN</td>\n",
              "      <td>NaN</td>\n",
              "      <td>NaN</td>\n",
              "      <td>positive</td>\n",
              "    </tr>\n",
              "    <tr>\n",
              "      <th>221391</th>\n",
              "      <td>True</td>\n",
              "      <td>01 15, 2013</td>\n",
              "      <td>A3T3KPW2QE866W</td>\n",
              "      <td>B0002II7H8</td>\n",
              "      <td>leelee</td>\n",
              "      <td>This polishing cloth is well-made and a great ...</td>\n",
              "      <td>Great polishing cloth</td>\n",
              "      <td>1358208000</td>\n",
              "      <td>NaN</td>\n",
              "      <td>NaN</td>\n",
              "      <td>NaN</td>\n",
              "      <td>positive</td>\n",
              "    </tr>\n",
              "  </tbody>\n",
              "</table>\n",
              "<p>221392 rows × 12 columns</p>\n",
              "</div>\n",
              "      <button class=\"colab-df-convert\" onclick=\"convertToInteractive('df-891ace5e-3e74-4ceb-83af-7f93f7f4c030')\"\n",
              "              title=\"Convert this dataframe to an interactive table.\"\n",
              "              style=\"display:none;\">\n",
              "        \n",
              "  <svg xmlns=\"http://www.w3.org/2000/svg\" height=\"24px\"viewBox=\"0 0 24 24\"\n",
              "       width=\"24px\">\n",
              "    <path d=\"M0 0h24v24H0V0z\" fill=\"none\"/>\n",
              "    <path d=\"M18.56 5.44l.94 2.06.94-2.06 2.06-.94-2.06-.94-.94-2.06-.94 2.06-2.06.94zm-11 1L8.5 8.5l.94-2.06 2.06-.94-2.06-.94L8.5 2.5l-.94 2.06-2.06.94zm10 10l.94 2.06.94-2.06 2.06-.94-2.06-.94-.94-2.06-.94 2.06-2.06.94z\"/><path d=\"M17.41 7.96l-1.37-1.37c-.4-.4-.92-.59-1.43-.59-.52 0-1.04.2-1.43.59L10.3 9.45l-7.72 7.72c-.78.78-.78 2.05 0 2.83L4 21.41c.39.39.9.59 1.41.59.51 0 1.02-.2 1.41-.59l7.78-7.78 2.81-2.81c.8-.78.8-2.07 0-2.86zM5.41 20L4 18.59l7.72-7.72 1.47 1.35L5.41 20z\"/>\n",
              "  </svg>\n",
              "      </button>\n",
              "      \n",
              "  <style>\n",
              "    .colab-df-container {\n",
              "      display:flex;\n",
              "      flex-wrap:wrap;\n",
              "      gap: 12px;\n",
              "    }\n",
              "\n",
              "    .colab-df-convert {\n",
              "      background-color: #E8F0FE;\n",
              "      border: none;\n",
              "      border-radius: 50%;\n",
              "      cursor: pointer;\n",
              "      display: none;\n",
              "      fill: #1967D2;\n",
              "      height: 32px;\n",
              "      padding: 0 0 0 0;\n",
              "      width: 32px;\n",
              "    }\n",
              "\n",
              "    .colab-df-convert:hover {\n",
              "      background-color: #E2EBFA;\n",
              "      box-shadow: 0px 1px 2px rgba(60, 64, 67, 0.3), 0px 1px 3px 1px rgba(60, 64, 67, 0.15);\n",
              "      fill: #174EA6;\n",
              "    }\n",
              "\n",
              "    [theme=dark] .colab-df-convert {\n",
              "      background-color: #3B4455;\n",
              "      fill: #D2E3FC;\n",
              "    }\n",
              "\n",
              "    [theme=dark] .colab-df-convert:hover {\n",
              "      background-color: #434B5C;\n",
              "      box-shadow: 0px 1px 3px 1px rgba(0, 0, 0, 0.15);\n",
              "      filter: drop-shadow(0px 1px 2px rgba(0, 0, 0, 0.3));\n",
              "      fill: #FFFFFF;\n",
              "    }\n",
              "  </style>\n",
              "\n",
              "      <script>\n",
              "        const buttonEl =\n",
              "          document.querySelector('#df-891ace5e-3e74-4ceb-83af-7f93f7f4c030 button.colab-df-convert');\n",
              "        buttonEl.style.display =\n",
              "          google.colab.kernel.accessAllowed ? 'block' : 'none';\n",
              "\n",
              "        async function convertToInteractive(key) {\n",
              "          const element = document.querySelector('#df-891ace5e-3e74-4ceb-83af-7f93f7f4c030');\n",
              "          const dataTable =\n",
              "            await google.colab.kernel.invokeFunction('convertToInteractive',\n",
              "                                                     [key], {});\n",
              "          if (!dataTable) return;\n",
              "\n",
              "          const docLinkHtml = 'Like what you see? Visit the ' +\n",
              "            '<a target=\"_blank\" href=https://colab.research.google.com/notebooks/data_table.ipynb>data table notebook</a>'\n",
              "            + ' to learn more about interactive tables.';\n",
              "          element.innerHTML = '';\n",
              "          dataTable['output_type'] = 'display_data';\n",
              "          await google.colab.output.renderOutput(dataTable, element);\n",
              "          const docLink = document.createElement('div');\n",
              "          docLink.innerHTML = docLinkHtml;\n",
              "          element.appendChild(docLink);\n",
              "        }\n",
              "      </script>\n",
              "    </div>\n",
              "  </div>\n",
              "  "
            ]
          },
          "metadata": {},
          "execution_count": 35
        }
      ]
    },
    {
      "cell_type": "markdown",
      "source": [
        "There seems to be a lot of features, but really we are only concerned with the `reviewText` and `rating` columns"
      ],
      "metadata": {
        "id": "JU3oB_2i9GYz"
      }
    },
    {
      "cell_type": "code",
      "source": [
        "# Extract the text and labels and encode the labels \n",
        "label_as_binary = LabelBinarizer()\n",
        "review_text = train_data.reviewText.astype(str)\n",
        "review_labels = train_data.rating\n",
        "\n",
        "review_labels = label_as_binary.fit_transform(review_labels)\n",
        "review_labels[9]\n",
        "\n",
        "\n"
      ],
      "metadata": {
        "id": "L4KzteoGC8j0",
        "colab": {
          "base_uri": "https://localhost:8080/"
        },
        "outputId": "4f9a4a35-3a72-46c7-a035-ec6066de7768"
      },
      "execution_count": 33,
      "outputs": [
        {
          "output_type": "execute_result",
          "data": {
            "text/plain": [
              "array([1, 0, 0])"
            ]
          },
          "metadata": {},
          "execution_count": 33
        }
      ]
    },
    {
      "cell_type": "markdown",
      "source": [
        "We need to use a tokenizer to find 5000 of the most common words in the review. This number can change down the line if need be. Also, we use **tfidf** representation to place more importance on words that appear less frequently among all reviews (words like 'the', 'a', 'this', etc.)."
      ],
      "metadata": {
        "id": "6cDjIRgB9qas"
      }
    },
    {
      "cell_type": "code",
      "source": [
        "numwords = 5000\n",
        "tokenizer = Tokenizer(num_words=numwords)\n",
        "tokenizer.fit_on_texts(review_text)\n",
        "# One hot encode the tokenized text\n",
        "results = tokenizer.texts_to_matrix(review_text, mode='tfidf')\n",
        "\n"
      ],
      "metadata": {
        "id": "ubKcApHSC9Ny"
      },
      "execution_count": 13,
      "outputs": []
    },
    {
      "cell_type": "code",
      "source": [
        "# split the data into training and test\n",
        "review_train_text, review_test_text, review_train_labels, review_test_labels = train_test_split(results, review_labels, test_size = 0.3, random_state=11)"
      ],
      "metadata": {
        "id": "aMRqMkmaDeFU"
      },
      "execution_count": 14,
      "outputs": []
    },
    {
      "cell_type": "markdown",
      "source": [
        "# Building the network\n",
        "We need to build a network now. Although the network seems fairly simple, a lot of work was done to get here. We have two Dense layers, two Dropout layers and one softmax output layer. The network uses the 'adam' optimizer. So why did I choose these specific layers? I initially started with 2 Dense layers(size of 256 and 128 respectively) and a single output layer. The issue was my model was overfitting like crazy. So like all good programmers I went to Google and researched ways to prevent overfitting. One method I found was to reduce the size of the layers. So I experimented with smaller and smaller sizes until I found the sweet spot of 16 and 8. Another method was to add Dropout layers.\n",
        "\n",
        "Dropout is a method of where random neurons are randomly \"dropped\" out during training. As a neural network is learning, neuron weights tend to stay within the their own context. Neighbouring neurons will rely on this and in turn lead to a model that has become too familiar with the training data (aka overfitting). Ignoring random neurons help mitigate this. Which is why we have two Dropout layers, one after each Dense layer.\n",
        "\n",
        "With those two techniques I managed to go from a loss of around .68 to a loss of roughly .30! Additionally, I removed my issue of overfitting."
      ],
      "metadata": {
        "id": "wYoLsiTt-S-I"
      }
    },
    {
      "cell_type": "code",
      "source": [
        "\n",
        "network2 = models.Sequential()\n",
        "network2.add(layers.Dense(16, activation='relu', input_shape=(5000,)))\n",
        "network2.add(layers.Dropout(0.3))\n",
        "network2.add(layers.Dense(8, activation='relu'))\n",
        "network2.add(layers.Dropout(0.3))\n",
        "network2.add(layers.Dense(3, activation='softmax'))\n",
        "\n",
        "\n",
        "\n",
        "\n",
        "network2.compile(optimizer='adam',loss='categorical_crossentropy',\n",
        "                metrics=['accuracy'])\n",
        "\n"
      ],
      "metadata": {
        "id": "uq-tw-MUGiNo"
      },
      "execution_count": 15,
      "outputs": []
    },
    {
      "cell_type": "code",
      "source": [
        "\n",
        "history2 = network2.fit(\n",
        "      review_train_text, review_train_labels,\n",
        "      steps_per_epoch=100,\n",
        "      epochs=30,\n",
        "      validation_split=0.3,\n",
        "      validation_steps=50,\n",
        "      batch_size=128\n",
        "      )"
      ],
      "metadata": {
        "colab": {
          "base_uri": "https://localhost:8080/"
        },
        "id": "knLmbRdvGtbW",
        "outputId": "96bbcb9d-26a5-48d8-fd86-ae55b94085a8"
      },
      "execution_count": 16,
      "outputs": [
        {
          "output_type": "stream",
          "name": "stdout",
          "text": [
            "Epoch 1/30\n",
            "100/100 [==============================] - 8s 25ms/step - loss: 0.7802 - accuracy: 0.8397 - val_loss: 0.5133 - val_accuracy: 0.8656\n",
            "Epoch 2/30\n",
            "100/100 [==============================] - 1s 5ms/step - loss: 0.5135 - accuracy: 0.8617 - val_loss: 0.3857 - val_accuracy: 0.8656\n",
            "Epoch 3/30\n",
            "100/100 [==============================] - 1s 5ms/step - loss: 0.4392 - accuracy: 0.8658 - val_loss: 0.3591 - val_accuracy: 0.8656\n",
            "Epoch 4/30\n",
            "100/100 [==============================] - 1s 5ms/step - loss: 0.4087 - accuracy: 0.8673 - val_loss: 0.3470 - val_accuracy: 0.8656\n",
            "Epoch 5/30\n",
            "100/100 [==============================] - 1s 5ms/step - loss: 0.3898 - accuracy: 0.8685 - val_loss: 0.3394 - val_accuracy: 0.8656\n",
            "Epoch 6/30\n",
            "100/100 [==============================] - 1s 5ms/step - loss: 0.3904 - accuracy: 0.8696 - val_loss: 0.3323 - val_accuracy: 0.8656\n",
            "Epoch 7/30\n",
            "100/100 [==============================] - 1s 5ms/step - loss: 0.3782 - accuracy: 0.8728 - val_loss: 0.3285 - val_accuracy: 0.8714\n",
            "Epoch 8/30\n",
            "100/100 [==============================] - 1s 5ms/step - loss: 0.3690 - accuracy: 0.8772 - val_loss: 0.3227 - val_accuracy: 0.8789\n",
            "Epoch 9/30\n",
            "100/100 [==============================] - 1s 6ms/step - loss: 0.3575 - accuracy: 0.8741 - val_loss: 0.3189 - val_accuracy: 0.8822\n",
            "Epoch 10/30\n",
            "100/100 [==============================] - 1s 6ms/step - loss: 0.3318 - accuracy: 0.8831 - val_loss: 0.3177 - val_accuracy: 0.8853\n",
            "Epoch 11/30\n",
            "100/100 [==============================] - 1s 6ms/step - loss: 0.3319 - accuracy: 0.8811 - val_loss: 0.3147 - val_accuracy: 0.8877\n",
            "Epoch 12/30\n",
            "100/100 [==============================] - 1s 5ms/step - loss: 0.3312 - accuracy: 0.8823 - val_loss: 0.3156 - val_accuracy: 0.8884\n",
            "Epoch 13/30\n",
            "100/100 [==============================] - 1s 6ms/step - loss: 0.3319 - accuracy: 0.8827 - val_loss: 0.3139 - val_accuracy: 0.8888\n",
            "Epoch 14/30\n",
            "100/100 [==============================] - 1s 6ms/step - loss: 0.3282 - accuracy: 0.8851 - val_loss: 0.3139 - val_accuracy: 0.8897\n",
            "Epoch 15/30\n",
            "100/100 [==============================] - 1s 6ms/step - loss: 0.3321 - accuracy: 0.8820 - val_loss: 0.3089 - val_accuracy: 0.8905\n",
            "Epoch 16/30\n",
            "100/100 [==============================] - 1s 6ms/step - loss: 0.3415 - accuracy: 0.8772 - val_loss: 0.3063 - val_accuracy: 0.8914\n",
            "Epoch 17/30\n",
            "100/100 [==============================] - 1s 5ms/step - loss: 0.3276 - accuracy: 0.8835 - val_loss: 0.3073 - val_accuracy: 0.8919\n",
            "Epoch 18/30\n",
            "100/100 [==============================] - 1s 6ms/step - loss: 0.2992 - accuracy: 0.8859 - val_loss: 0.3119 - val_accuracy: 0.8936\n",
            "Epoch 19/30\n",
            "100/100 [==============================] - 1s 5ms/step - loss: 0.3013 - accuracy: 0.8843 - val_loss: 0.3078 - val_accuracy: 0.8939\n",
            "Epoch 20/30\n",
            "100/100 [==============================] - 1s 5ms/step - loss: 0.3026 - accuracy: 0.8885 - val_loss: 0.3081 - val_accuracy: 0.8925\n",
            "Epoch 21/30\n",
            "100/100 [==============================] - 1s 5ms/step - loss: 0.3122 - accuracy: 0.8856 - val_loss: 0.3097 - val_accuracy: 0.8936\n",
            "Epoch 22/30\n",
            "100/100 [==============================] - 1s 6ms/step - loss: 0.3047 - accuracy: 0.8875 - val_loss: 0.3050 - val_accuracy: 0.8941\n",
            "Epoch 23/30\n",
            "100/100 [==============================] - 1s 5ms/step - loss: 0.3041 - accuracy: 0.8855 - val_loss: 0.3050 - val_accuracy: 0.8941\n",
            "Epoch 24/30\n",
            "100/100 [==============================] - 1s 5ms/step - loss: 0.3037 - accuracy: 0.8875 - val_loss: 0.3054 - val_accuracy: 0.8927\n",
            "Epoch 25/30\n",
            "100/100 [==============================] - 1s 5ms/step - loss: 0.3029 - accuracy: 0.8884 - val_loss: 0.3028 - val_accuracy: 0.8934\n",
            "Epoch 26/30\n",
            "100/100 [==============================] - 1s 5ms/step - loss: 0.2969 - accuracy: 0.8900 - val_loss: 0.3056 - val_accuracy: 0.8922\n",
            "Epoch 27/30\n",
            "100/100 [==============================] - 1s 5ms/step - loss: 0.2886 - accuracy: 0.8890 - val_loss: 0.3066 - val_accuracy: 0.8942\n",
            "Epoch 28/30\n",
            "100/100 [==============================] - 1s 5ms/step - loss: 0.2758 - accuracy: 0.8971 - val_loss: 0.3075 - val_accuracy: 0.8942\n",
            "Epoch 29/30\n",
            "100/100 [==============================] - 1s 5ms/step - loss: 0.2864 - accuracy: 0.8942 - val_loss: 0.3064 - val_accuracy: 0.8944\n",
            "Epoch 30/30\n",
            "100/100 [==============================] - 1s 5ms/step - loss: 0.2892 - accuracy: 0.8941 - val_loss: 0.3111 - val_accuracy: 0.8934\n"
          ]
        }
      ]
    },
    {
      "cell_type": "markdown",
      "source": [
        "Let's take a look at the model's accuracy on the test set"
      ],
      "metadata": {
        "id": "rK7lHhTZByA1"
      }
    },
    {
      "cell_type": "code",
      "source": [
        "scoreSeg = network2.evaluate(review_test_text, review_test_labels)\n",
        "print(\"Accuracy: \", scoreSeg[1])"
      ],
      "metadata": {
        "colab": {
          "base_uri": "https://localhost:8080/"
        },
        "id": "huZYJ1ZpHR3W",
        "outputId": "712d07e3-62af-4ce8-c356-24ac3892aa06"
      },
      "execution_count": 17,
      "outputs": [
        {
          "output_type": "stream",
          "name": "stdout",
          "text": [
            "2076/2076 [==============================] - 5s 2ms/step - loss: 0.3299 - accuracy: 0.8920\n",
            "Accuracy:  0.8919870853424072\n"
          ]
        }
      ]
    },
    {
      "cell_type": "markdown",
      "source": [
        "An accuracy of 89% with a relatively small loss of 0.32. Not bad at all. Let's take a look at the graph and check for any overfitting."
      ],
      "metadata": {
        "id": "x7tmtQulBxbY"
      }
    },
    {
      "cell_type": "code",
      "source": [
        "\n",
        "\n",
        "acc = history2.history['accuracy']\n",
        "val_acc = history2.history['val_accuracy']\n",
        "loss = history2.history['loss']\n",
        "val_loss = history2.history['val_loss']\n",
        "\n",
        "epochs = range(len(acc))\n",
        "\n",
        "plt.plot(epochs, acc, 'bo', label='Training acc')\n",
        "plt.plot(epochs, val_acc, 'b', label='Validation acc')\n",
        "plt.title('Training and validation accuracy')\n",
        "plt.legend()\n",
        "\n",
        "plt.figure()\n",
        "\n",
        "plt.plot(epochs, loss, 'bo', label='Training loss')\n",
        "plt.plot(epochs, val_loss, 'b', label='Validation loss')\n",
        "plt.title('Training and validation loss')\n",
        "plt.legend()\n",
        "\n",
        "plt.show()\n",
        "\n"
      ],
      "metadata": {
        "colab": {
          "base_uri": "https://localhost:8080/",
          "height": 887
        },
        "id": "AZeLxiQpHu2y",
        "outputId": "e69368da-fe06-4dce-d6a0-95d30547fedb"
      },
      "execution_count": 18,
      "outputs": [
        {
          "output_type": "display_data",
          "data": {
            "text/plain": [
              "<Figure size 640x480 with 1 Axes>"
            ],
            "image/png": "[encoded data removed]"
          },
          "metadata": {}
        },
        {
          "output_type": "display_data",
          "data": {
            "text/plain": [
              "<Figure size 640x480 with 1 Axes>"
            ],
            "image/png": "[encoded data removed]"
          },
          "metadata": {}
        }
      ]
    },
    {
      "cell_type": "markdown",
      "source": [
        "It looks like there isn't any overfitting going on with the way the validation and training lines converge. Great! Let's run our model on the test.csv we downloaded earlier and place the predictions in a text file for submission."
      ],
      "metadata": {
        "id": "_DivsEHaH1Uo"
      }
    },
    {
      "cell_type": "code",
      "source": [
        "tokenizer_test = Tokenizer(num_words=5000)\n",
        "review_text_test = test_data.reviewText.astype(str)\n",
        "tokenizer_test.fit_on_texts(review_text_test)\n",
        "results2 = tokenizer_test.texts_to_matrix(review_text_test, mode='tfidf')\n"
      ],
      "metadata": {
        "id": "V-U9dIvnXsm9"
      },
      "execution_count": null,
      "outputs": []
    },
    {
      "cell_type": "code",
      "source": [
        "# stores the array of predicted probabilities in an array\n",
        "y_prob = network2.predict(results2)\n",
        "# stores the associated class of the prediction \n",
        "y_classes = y_prob.argmax(axis=-1)\n"
      ],
      "metadata": {
        "id": "gY4RbZajCSak"
      },
      "execution_count": null,
      "outputs": []
    },
    {
      "cell_type": "code",
      "source": [
        "# writes the label of the class into a list\n",
        "predictions = []\n",
        "for i in y_classes:\n",
        "  if i == 0:\n",
        "    predictions.append('negative')\n",
        "  elif i == 1:\n",
        "    predictions.append('neutral')\n",
        "  else:\n",
        "    predictions.append('positive')\n"
      ],
      "metadata": {
        "id": "_Aw5Eh5SFQZU"
      },
      "execution_count": 43,
      "outputs": []
    },
    {
      "cell_type": "markdown",
      "source": [
        "Out of curiousty, I took a look at what values I got and found some interesting results. 9690 positive predictions and 310 negative predictions. At first I thought that there was something wrong with my model but... if you look at amazon you will find many products actually have more positive reviews than negative. But the skew towards positive seems excessive. "
      ],
      "metadata": {
        "id": "F5ocRgS_KjR8"
      }
    },
    {
      "cell_type": "code",
      "source": [
        "predictions = pd.Series(predictions).value_counts()\n",
        "predictions"
      ],
      "metadata": {
        "colab": {
          "base_uri": "https://localhost:8080/"
        },
        "id": "vkCWlikNJJoa",
        "outputId": "f358bb94-7d6e-4ecf-f10d-a6f7dd8c1a82"
      },
      "execution_count": 44,
      "outputs": [
        {
          "output_type": "execute_result",
          "data": {
            "text/plain": [
              "positive    9690\n",
              "negative     310\n",
              "dtype: int64"
            ]
          },
          "metadata": {},
          "execution_count": 44
        }
      ]
    },
    {
      "cell_type": "code",
      "source": [
        "# saves the list into a text file\n",
        "with open(r'/content/amazonReviewsPredictions.txt', 'w') as fp:\n",
        "    for item in predictions:\n",
        "        # write each item on a new line\n",
        "        fp.write(\"%s\\n\" % item)\n",
        "    "
      ],
      "metadata": {
        "id": "wZQv0z5kG4Bl"
      },
      "execution_count": 37,
      "outputs": []
    },
    {
      "cell_type": "code",
      "source": [
        "# test the format of the file\n",
        "def test():\n",
        "  i = 0\n",
        "  answers = ['negative', 'neutral', 'positive']\n",
        "  with open('/content/amazonReviewsPredictions.txt', 'r') as outfile:\n",
        "    lines = outfile.readlines()\n",
        "    for line in lines:\n",
        "        if line.strip() not in answers:\n",
        "          return(\"invalid entry line %i\" % (i))\n",
        "        i += 1\n",
        "    if i != 10000:\n",
        "      return (\"incorrect number of lines\")\n",
        "    else:\n",
        "      return (\"file looks ok\")\n",
        "test()"
      ],
      "metadata": {
        "colab": {
          "base_uri": "https://localhost:8080/",
          "height": 35
        },
        "id": "gWVAuMmLHFt-",
        "outputId": "8b00bedf-6f46-48b5-c049-8457ab65723b"
      },
      "execution_count": 38,
      "outputs": [
        {
          "output_type": "execute_result",
          "data": {
            "text/plain": [
              "'file looks ok'"
            ],
            "application/vnd.google.colaboratory.intrinsic+json": {
              "type": "string"
            }
          },
          "metadata": {},
          "execution_count": 38
        }
      ]
    }
  ]
}